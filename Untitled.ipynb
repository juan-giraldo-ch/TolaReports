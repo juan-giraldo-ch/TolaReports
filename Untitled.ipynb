{
 "cells": [
  {
   "cell_type": "code",
   "execution_count": 2,
   "metadata": {},
   "outputs": [],
   "source": [
    "import pandas as pd"
   ]
  },
  {
   "cell_type": "code",
   "execution_count": 3,
   "metadata": {},
   "outputs": [],
   "source": [
    "df = pd.read_csv('data.csv')"
   ]
  },
  {
   "cell_type": "code",
   "execution_count": 4,
   "metadata": {},
   "outputs": [],
   "source": [
    "a = df['periodic_target'].unique()"
   ]
  },
  {
   "cell_type": "code",
   "execution_count": 5,
   "metadata": {},
   "outputs": [],
   "source": [
    "b = list(a)"
   ]
  },
  {
   "cell_type": "code",
   "execution_count": 41,
   "metadata": {},
   "outputs": [
    {
     "data": {
      "text/html": [
       "<div>\n",
       "<style scoped>\n",
       "    .dataframe tbody tr th:only-of-type {\n",
       "        vertical-align: middle;\n",
       "    }\n",
       "\n",
       "    .dataframe tbody tr th {\n",
       "        vertical-align: top;\n",
       "    }\n",
       "\n",
       "    .dataframe thead th {\n",
       "        text-align: right;\n",
       "    }\n",
       "</style>\n",
       "<table border=\"1\" class=\"dataframe\">\n",
       "  <thead>\n",
       "    <tr style=\"text-align: right;\">\n",
       "      <th></th>\n",
       "      <th>sector</th>\n",
       "      <th>reporting_frequency</th>\n",
       "      <th>id</th>\n",
       "      <th>indicator_type</th>\n",
       "      <th>level</th>\n",
       "      <th>name</th>\n",
       "      <th>number</th>\n",
       "      <th>source</th>\n",
       "      <th>definition</th>\n",
       "      <th>justification</th>\n",
       "      <th>...</th>\n",
       "      <th>data_points</th>\n",
       "      <th>responsible_person</th>\n",
       "      <th>method_of_analysis</th>\n",
       "      <th>information_use</th>\n",
       "      <th>quality_assurance</th>\n",
       "      <th>data_issues</th>\n",
       "      <th>indicator_changes</th>\n",
       "      <th>comments</th>\n",
       "      <th>workflowlevel1</th>\n",
       "      <th>key_performance_indicator</th>\n",
       "    </tr>\n",
       "  </thead>\n",
       "  <tbody>\n",
       "    <tr>\n",
       "      <th>0</th>\n",
       "      <td>NaN</td>\n",
       "      <td>NaN</td>\n",
       "      <td>1</td>\n",
       "      <td>NaN</td>\n",
       "      <td>NECPA</td>\n",
       "      <td>No. of inception meetings held</td>\n",
       "      <td>NaN</td>\n",
       "      <td>NaN</td>\n",
       "      <td>NaN</td>\n",
       "      <td>NaN</td>\n",
       "      <td>...</td>\n",
       "      <td>NaN</td>\n",
       "      <td>NaN</td>\n",
       "      <td>NaN</td>\n",
       "      <td>NaN</td>\n",
       "      <td>NaN</td>\n",
       "      <td>NaN</td>\n",
       "      <td>NaN</td>\n",
       "      <td>NaN</td>\n",
       "      <td>NaN</td>\n",
       "      <td>NaN</td>\n",
       "    </tr>\n",
       "    <tr>\n",
       "      <th>1</th>\n",
       "      <td>NaN</td>\n",
       "      <td>NaN</td>\n",
       "      <td>2</td>\n",
       "      <td>NaN</td>\n",
       "      <td>NECPA</td>\n",
       "      <td># of youth who have received discounted seeds</td>\n",
       "      <td>NaN</td>\n",
       "      <td>NaN</td>\n",
       "      <td>NaN</td>\n",
       "      <td>NaN</td>\n",
       "      <td>...</td>\n",
       "      <td>NaN</td>\n",
       "      <td>NaN</td>\n",
       "      <td>NaN</td>\n",
       "      <td>NaN</td>\n",
       "      <td>NaN</td>\n",
       "      <td>NaN</td>\n",
       "      <td>NaN</td>\n",
       "      <td>NaN</td>\n",
       "      <td>NaN</td>\n",
       "      <td>NaN</td>\n",
       "    </tr>\n",
       "    <tr>\n",
       "      <th>2</th>\n",
       "      <td>NaN</td>\n",
       "      <td>NaN</td>\n",
       "      <td>3</td>\n",
       "      <td>NaN</td>\n",
       "      <td>NECPA</td>\n",
       "      <td># of youth who have received discounted seeds</td>\n",
       "      <td>NaN</td>\n",
       "      <td>NaN</td>\n",
       "      <td>NaN</td>\n",
       "      <td>NaN</td>\n",
       "      <td>...</td>\n",
       "      <td>NaN</td>\n",
       "      <td>NaN</td>\n",
       "      <td>NaN</td>\n",
       "      <td>NaN</td>\n",
       "      <td>NaN</td>\n",
       "      <td>NaN</td>\n",
       "      <td>NaN</td>\n",
       "      <td>NaN</td>\n",
       "      <td>NaN</td>\n",
       "      <td>NaN</td>\n",
       "    </tr>\n",
       "    <tr>\n",
       "      <th>3</th>\n",
       "      <td>NaN</td>\n",
       "      <td>NaN</td>\n",
       "      <td>4</td>\n",
       "      <td>NaN</td>\n",
       "      <td>NECPA</td>\n",
       "      <td># of youth who have received discounted seeds</td>\n",
       "      <td>NaN</td>\n",
       "      <td>NaN</td>\n",
       "      <td>NaN</td>\n",
       "      <td>NaN</td>\n",
       "      <td>...</td>\n",
       "      <td>NaN</td>\n",
       "      <td>NaN</td>\n",
       "      <td>NaN</td>\n",
       "      <td>NaN</td>\n",
       "      <td>NaN</td>\n",
       "      <td>NaN</td>\n",
       "      <td>NaN</td>\n",
       "      <td>NaN</td>\n",
       "      <td>NaN</td>\n",
       "      <td>NaN</td>\n",
       "    </tr>\n",
       "    <tr>\n",
       "      <th>4</th>\n",
       "      <td>NaN</td>\n",
       "      <td>NaN</td>\n",
       "      <td>5</td>\n",
       "      <td>NaN</td>\n",
       "      <td>NECPA</td>\n",
       "      <td># of youth who have received discounted seeds</td>\n",
       "      <td>NaN</td>\n",
       "      <td>NaN</td>\n",
       "      <td>NaN</td>\n",
       "      <td>NaN</td>\n",
       "      <td>...</td>\n",
       "      <td>NaN</td>\n",
       "      <td>NaN</td>\n",
       "      <td>NaN</td>\n",
       "      <td>NaN</td>\n",
       "      <td>NaN</td>\n",
       "      <td>NaN</td>\n",
       "      <td>NaN</td>\n",
       "      <td>NaN</td>\n",
       "      <td>NaN</td>\n",
       "      <td>NaN</td>\n",
       "    </tr>\n",
       "  </tbody>\n",
       "</table>\n",
       "<p>5 rows × 29 columns</p>\n",
       "</div>"
      ],
      "text/plain": [
       "   sector  reporting_frequency  id  indicator_type  level  \\\n",
       "0     NaN                  NaN   1             NaN  NECPA   \n",
       "1     NaN                  NaN   2             NaN  NECPA   \n",
       "2     NaN                  NaN   3             NaN  NECPA   \n",
       "3     NaN                  NaN   4             NaN  NECPA   \n",
       "4     NaN                  NaN   5             NaN  NECPA   \n",
       "\n",
       "                                            name  number  source  definition  \\\n",
       "0                 No. of inception meetings held     NaN     NaN         NaN   \n",
       "1  # of youth who have received discounted seeds     NaN     NaN         NaN   \n",
       "2  # of youth who have received discounted seeds     NaN     NaN         NaN   \n",
       "3  # of youth who have received discounted seeds     NaN     NaN         NaN   \n",
       "4  # of youth who have received discounted seeds     NaN     NaN         NaN   \n",
       "\n",
       "   justification            ...              data_points  responsible_person  \\\n",
       "0            NaN            ...                      NaN                 NaN   \n",
       "1            NaN            ...                      NaN                 NaN   \n",
       "2            NaN            ...                      NaN                 NaN   \n",
       "3            NaN            ...                      NaN                 NaN   \n",
       "4            NaN            ...                      NaN                 NaN   \n",
       "\n",
       "   method_of_analysis  information_use quality_assurance  data_issues  \\\n",
       "0                 NaN              NaN               NaN          NaN   \n",
       "1                 NaN              NaN               NaN          NaN   \n",
       "2                 NaN              NaN               NaN          NaN   \n",
       "3                 NaN              NaN               NaN          NaN   \n",
       "4                 NaN              NaN               NaN          NaN   \n",
       "\n",
       "   indicator_changes  comments  workflowlevel1  key_performance_indicator  \n",
       "0                NaN       NaN             NaN                        NaN  \n",
       "1                NaN       NaN             NaN                        NaN  \n",
       "2                NaN       NaN             NaN                        NaN  \n",
       "3                NaN       NaN             NaN                        NaN  \n",
       "4                NaN       NaN             NaN                        NaN  \n",
       "\n",
       "[5 rows x 29 columns]"
      ]
     },
     "execution_count": 41,
     "metadata": {},
     "output_type": "execute_result"
    }
   ],
   "source": [
    "df.head()"
   ]
  },
  {
   "cell_type": "code",
   "execution_count": 49,
   "metadata": {},
   "outputs": [],
   "source": []
  },
  {
   "cell_type": "code",
   "execution_count": 52,
   "metadata": {},
   "outputs": [],
   "source": [
    "y = []\n",
    "y2 = []\n",
    "name = []\n",
    "for i in range(len(df)):\n",
    "    if(df['periodic_target'].iloc[i] == 'August'):\n",
    "        name.append(df['name'].iloc[i])\n",
    "        y.append(df['achieved'].iloc[i])\n",
    "        y2.append(df['lop_target'].iloc[i])"
   ]
  },
  {
   "cell_type": "code",
   "execution_count": 55,
   "metadata": {},
   "outputs": [
    {
     "data": {
      "text/plain": [
       "[1500, 1500, 1500, 1500]"
      ]
     },
     "execution_count": 55,
     "metadata": {},
     "output_type": "execute_result"
    }
   ],
   "source": [
    "y2"
   ]
  },
  {
   "cell_type": "code",
   "execution_count": 24,
   "metadata": {},
   "outputs": [
    {
     "data": {
      "text/plain": [
       "['sector',\n",
       " 'reporting_frequency',\n",
       " 'id',\n",
       " 'indicator_type',\n",
       " 'level',\n",
       " 'name',\n",
       " 'number',\n",
       " 'source',\n",
       " 'definition',\n",
       " 'justification',\n",
       " 'unit_of_measure',\n",
       " 'baseline',\n",
       " 'lop_target',\n",
       " 'achieved',\n",
       " 'periodic_target',\n",
       " 'rationale_for_target',\n",
       " 'means_of_verification',\n",
       " 'data_collection_method',\n",
       " 'data_collection_frequency',\n",
       " 'data_points',\n",
       " 'responsible_person',\n",
       " 'method_of_analysis',\n",
       " 'information_use',\n",
       " 'quality_assurance',\n",
       " 'data_issues',\n",
       " 'indicator_changes',\n",
       " 'comments',\n",
       " 'workflowlevel1',\n",
       " 'key_performance_indicator']"
      ]
     },
     "execution_count": 24,
     "metadata": {},
     "output_type": "execute_result"
    }
   ],
   "source": [
    "list(df)"
   ]
  },
  {
   "cell_type": "code",
   "execution_count": 27,
   "metadata": {},
   "outputs": [
    {
     "data": {
      "text/html": [
       "<div>\n",
       "<style scoped>\n",
       "    .dataframe tbody tr th:only-of-type {\n",
       "        vertical-align: middle;\n",
       "    }\n",
       "\n",
       "    .dataframe tbody tr th {\n",
       "        vertical-align: top;\n",
       "    }\n",
       "\n",
       "    .dataframe thead th {\n",
       "        text-align: right;\n",
       "    }\n",
       "</style>\n",
       "<table border=\"1\" class=\"dataframe\">\n",
       "  <thead>\n",
       "    <tr style=\"text-align: right;\">\n",
       "      <th></th>\n",
       "      <th>name</th>\n",
       "      <th>lop_target</th>\n",
       "      <th>periodic_target</th>\n",
       "      <th>achieved</th>\n",
       "    </tr>\n",
       "  </thead>\n",
       "  <tbody>\n",
       "    <tr>\n",
       "      <th>0</th>\n",
       "      <td>No. of inception meetings held</td>\n",
       "      <td>8</td>\n",
       "      <td>July</td>\n",
       "      <td>8.0</td>\n",
       "    </tr>\n",
       "    <tr>\n",
       "      <th>1</th>\n",
       "      <td># of youth who have received discounted seeds</td>\n",
       "      <td>1500</td>\n",
       "      <td>July</td>\n",
       "      <td>221.0</td>\n",
       "    </tr>\n",
       "    <tr>\n",
       "      <th>2</th>\n",
       "      <td># of youth who have received discounted seeds</td>\n",
       "      <td>1500</td>\n",
       "      <td>August</td>\n",
       "      <td>569.0</td>\n",
       "    </tr>\n",
       "    <tr>\n",
       "      <th>3</th>\n",
       "      <td># of youth who have received discounted seeds</td>\n",
       "      <td>1500</td>\n",
       "      <td>September</td>\n",
       "      <td>524.0</td>\n",
       "    </tr>\n",
       "    <tr>\n",
       "      <th>4</th>\n",
       "      <td># of youth who have received discounted seeds</td>\n",
       "      <td>1500</td>\n",
       "      <td>October</td>\n",
       "      <td>1.0</td>\n",
       "    </tr>\n",
       "  </tbody>\n",
       "</table>\n",
       "</div>"
      ],
      "text/plain": [
       "                                            name  lop_target periodic_target  \\\n",
       "0                 No. of inception meetings held           8            July   \n",
       "1  # of youth who have received discounted seeds        1500            July   \n",
       "2  # of youth who have received discounted seeds        1500          August   \n",
       "3  # of youth who have received discounted seeds        1500       September   \n",
       "4  # of youth who have received discounted seeds        1500         October   \n",
       "\n",
       "   achieved  \n",
       "0       8.0  \n",
       "1     221.0  \n",
       "2     569.0  \n",
       "3     524.0  \n",
       "4       1.0  "
      ]
     },
     "execution_count": 27,
     "metadata": {},
     "output_type": "execute_result"
    }
   ],
   "source": [
    "df_ = df[['name','lop_target','periodic_target','achieved']]\n",
    "df_.head()"
   ]
  },
  {
   "cell_type": "code",
   "execution_count": 33,
   "metadata": {},
   "outputs": [
    {
     "name": "stdout",
     "output_type": "stream",
     "text": [
      "<pandas.core.groupby.DataFrameGroupBy object at 0x7fe99e39c650>\n"
     ]
    }
   ],
   "source": [
    "df1 = df_.groupby(['name', 'periodic_target'])\n",
    "print(df1)"
   ]
  },
  {
   "cell_type": "code",
   "execution_count": 35,
   "metadata": {},
   "outputs": [
    {
     "data": {
      "text/plain": [
       "array(['No. of inception meetings held',\n",
       "       '# of youth who have received discounted seeds',\n",
       "       'No. of youth trained in nursery mgt', 'No. of youth enrolled',\n",
       "       '# of nurseries accessing improved planting materials',\n",
       "       '# of demos established', '# of youth trained in crop management',\n",
       "       'No. of field agents and marketing committees trained',\n",
       "       'No. of training days for field agents and marketing commitees',\n",
       "       'No. of training hours for field agents and marketing commitees',\n",
       "       '# of trade fairs participated in',\n",
       "       '# of HHs trained in PHH and storage',\n",
       "       '# of sample dryers purchased', '# of field days organized',\n",
       "       '# of youth trained in Business planning and market literacy',\n",
       "       '# of youth trained in value addition',\n",
       "       'No. of linkage meetings facilitated',\n",
       "       '# of tons of chili purchased from youth farmers',\n",
       "       '# of bimonthly meetings facilitated',\n",
       "       '# of monthly monitoring field visits conducted'], dtype=object)"
      ]
     },
     "execution_count": 35,
     "metadata": {},
     "output_type": "execute_result"
    }
   ],
   "source": [
    "df['name'].unique()"
   ]
  },
  {
   "cell_type": "code",
   "execution_count": null,
   "metadata": {},
   "outputs": [],
   "source": []
  }
 ],
 "metadata": {
  "kernelspec": {
   "display_name": "Python 3",
   "language": "python",
   "name": "python3"
  },
  "language_info": {
   "codemirror_mode": {
    "name": "ipython",
    "version": 2
   },
   "file_extension": ".py",
   "mimetype": "text/x-python",
   "name": "python",
   "nbconvert_exporter": "python",
   "pygments_lexer": "ipython2",
   "version": "2.7.12"
  }
 },
 "nbformat": 4,
 "nbformat_minor": 2
}
