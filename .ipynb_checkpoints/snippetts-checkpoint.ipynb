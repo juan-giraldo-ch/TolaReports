{
 "cells": [
  {
   "cell_type": "code",
   "execution_count": 2,
   "metadata": {},
   "outputs": [],
   "source": [
    "import pandas as pd"
   ]
  },
  {
   "cell_type": "code",
   "execution_count": 4,
   "metadata": {},
   "outputs": [],
   "source": [
    "df = pd.read_csv('data.csv')"
   ]
  },
  {
   "cell_type": "code",
   "execution_count": 8,
   "metadata": {},
   "outputs": [],
   "source": [
    "a = df['periodic_target'].unique()"
   ]
  },
  {
   "cell_type": "code",
   "execution_count": 24,
   "metadata": {},
   "outputs": [],
   "source": [
    "b = list(a)"
   ]
  },
  {
   "cell_type": "code",
   "execution_count": 39,
   "metadata": {},
   "outputs": [],
   "source": [
    "b[1]\n",
    "y = []\n",
    "y2 = []"
   ]
  },
  {
   "cell_type": "code",
   "execution_count": 40,
   "metadata": {},
   "outputs": [],
   "source": [
    "for i in range(len(df)):\n",
    "    if(df['periodic_target'].iloc[i] == b[0]):\n",
    "        y.append(df['achieved'].iloc[i])\n",
    "        y2.append(df['lop_target'].iloc[i])"
   ]
  },
  {
   "cell_type": "code",
   "execution_count": 41,
   "metadata": {},
   "outputs": [
    {
     "data": {
      "text/plain": [
       "[8, 1500, 1500, 1500, 1500, 16, 3, 6, 1500]"
      ]
     },
     "execution_count": 41,
     "metadata": {},
     "output_type": "execute_result"
    }
   ],
   "source": [
    "y2"
   ]
  },
  {
   "cell_type": "code",
   "execution_count": 42,
   "metadata": {},
   "outputs": [
    {
     "data": {
      "text/plain": [
       "array(['No. of inception meetings held',\n",
       "       '# of youth who have received discounted seeds',\n",
       "       'No. of youth trained in nursery mgt', 'No. of youth enrolled',\n",
       "       '# of nurseries accessing improved planting materials',\n",
       "       '# of demos established', '# of youth trained in crop management',\n",
       "       'No. of field agents and marketing committees trained',\n",
       "       'No. of training days for field agents and marketing commitees',\n",
       "       'No. of training hours for field agents and marketing commitees',\n",
       "       '# of trade fairs participated in',\n",
       "       '# of HHs trained in PHH and storage',\n",
       "       '# of sample dryers purchased', '# of field days organized',\n",
       "       '# of youth trained in Business planning and market literacy',\n",
       "       '# of youth trained in value addition',\n",
       "       'No. of linkage meetings facilitated',\n",
       "       '# of tons of chili purchased from youth farmers',\n",
       "       '# of bimonthly meetings facilitated',\n",
       "       '# of monthly monitoring field visits conducted'], dtype=object)"
      ]
     },
     "execution_count": 42,
     "metadata": {},
     "output_type": "execute_result"
    }
   ],
   "source": [
    "df['name'].unique()"
   ]
  },
  {
   "cell_type": "code",
   "execution_count": null,
   "metadata": {},
   "outputs": [],
   "source": []
  }
 ],
 "metadata": {
  "kernelspec": {
   "display_name": "Python 3",
   "language": "python",
   "name": "python3"
  },
  "language_info": {
   "codemirror_mode": {
    "name": "ipython",
    "version": 2
   },
   "file_extension": ".py",
   "mimetype": "text/x-python",
   "name": "python",
   "nbconvert_exporter": "python",
   "pygments_lexer": "ipython2",
   "version": "2.7.12"
  }
 },
 "nbformat": 4,
 "nbformat_minor": 2
}
